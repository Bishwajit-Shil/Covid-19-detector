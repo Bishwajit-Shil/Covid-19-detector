{
  "nbformat": 4,
  "nbformat_minor": 0,
  "metadata": {
    "colab": {
      "name": "covid-19.ipynb",
      "provenance": [],
      "collapsed_sections": [],
      "toc_visible": true
    },
    "kernelspec": {
      "display_name": "Python 3",
      "language": "python",
      "name": "python3"
    },
    "language_info": {
      "codemirror_mode": {
        "name": "ipython",
        "version": 3
      },
      "file_extension": ".py",
      "mimetype": "text/x-python",
      "name": "python",
      "nbconvert_exporter": "python",
      "pygments_lexer": "ipython3",
      "version": "3.7.6"
    }
  },
  "cells": [
    {
      "cell_type": "markdown",
      "metadata": {
        "id": "j9ZGXybT_Nzj"
      },
      "source": [
        "# Covid-19 detection (Positive/Nagetive)\n",
        "\n",
        "Chest X-ray between normal people and covid19 affected people are totally different . From chest X-ray dataset trying to detect the covid19 diseases"
      ]
    },
    {
      "cell_type": "markdown",
      "metadata": {
        "id": "AMbKapCF_Nzj"
      },
      "source": [
        "Author : Bishwajit Shil\n",
        "\n",
        "\n",
        "Department of Physics , Rajshahi"
      ]
    },
    {
      "cell_type": "markdown",
      "metadata": {
        "id": "7HQxi2qd_tB0"
      },
      "source": [
        "import google-drive for loading dataset"
      ]
    },
    {
      "cell_type": "code",
      "metadata": {
        "colab": {
          "base_uri": "https://localhost:8080/"
        },
        "id": "Cn6jPikd_rZD",
        "outputId": "eed60c97-e1e4-482d-de7a-a4ad3ee9beeb"
      },
      "source": [
        "from google.colab import drive\n",
        "drive.mount('/content/drive')"
      ],
      "execution_count": null,
      "outputs": [
        {
          "output_type": "stream",
          "text": [
            "Mounted at /content/drive\n"
          ],
          "name": "stdout"
        }
      ]
    },
    {
      "cell_type": "markdown",
      "metadata": {
        "id": "dFT_nVRg_Nzj"
      },
      "source": [
        "#### import chest-xray image dataset and agumentaion"
      ]
    },
    {
      "cell_type": "code",
      "metadata": {
        "id": "QsC4OXml_Nzj"
      },
      "source": [
        "import tensorflow as tf\n",
        "from keras.preprocessing.image import ImageDataGenerator\n",
        "train_dir = '/content/drive/MyDrive/datasets/covid19/train/'\n",
        "validation_dir = '/content/drive/MyDrive/datasets/covid19/val/'"
      ],
      "execution_count": 3,
      "outputs": []
    },
    {
      "cell_type": "code",
      "metadata": {
        "colab": {
          "base_uri": "https://localhost:8080/"
        },
        "id": "t3zHrfZQ_Nzl",
        "outputId": "9a7cba90-98f0-449e-ad9f-30ff574d423b"
      },
      "source": [
        "width= 400\n",
        "height=400\n",
        "train_datagen = ImageDataGenerator(rescale = 1.0/255,\n",
        "                                  rotation_range = 40,\n",
        "                                  shear_range = 0.4,\n",
        "                                  zoom_range = 0.4,\n",
        "                                  width_shift_range = 0.4,\n",
        "                                  height_shift_range = 0.4,\n",
        "                                  horizontal_flip =True,\n",
        "                                  fill_mode = 'nearest')\n",
        "\n",
        "validation_datagen = ImageDataGenerator(rescale= 1.0/255)\n",
        "\n",
        "\n",
        "training_generator = train_datagen.flow_from_directory(train_dir,\n",
        "                                                      batch_size = 10,\n",
        "                                                      target_size=(width,height),\n",
        "                                                      class_mode = 'categorical',\n",
        "                                                      color_mode = 'rgb',\n",
        "                                                      shuffle = True      \n",
        "                                                      )\n",
        "validation_generator = validation_datagen.flow_from_directory(validation_dir,\n",
        "                                                             batch_size = 10,\n",
        "                                                             target_size =(width, height),\n",
        "                                                             color_mode = 'rgb',\n",
        "                                                            #  shuffle = True ,                                                                \n",
        "                                                             class_mode = 'categorical')"
      ],
      "execution_count": 4,
      "outputs": [
        {
          "output_type": "stream",
          "text": [
            "Found 108 images belonging to 2 classes.\n",
            "Found 20 images belonging to 2 classes.\n"
          ],
          "name": "stdout"
        }
      ]
    },
    {
      "cell_type": "code",
      "metadata": {
        "colab": {
          "base_uri": "https://localhost:8080/"
        },
        "id": "fnkAuShu_Nzl",
        "outputId": "149b47d2-7ded-424c-8e3b-c08e7accd98a"
      },
      "source": [
        "validation_generator.class_indices"
      ],
      "execution_count": 52,
      "outputs": [
        {
          "output_type": "execute_result",
          "data": {
            "text/plain": [
              "{'covid': 0, 'normal': 1}"
            ]
          },
          "metadata": {
            "tags": []
          },
          "execution_count": 52
        }
      ]
    },
    {
      "cell_type": "markdown",
      "metadata": {
        "id": "q54Qsi8L_fPb"
      },
      "source": [
        "      few Training Images look like"
      ]
    },
    {
      "cell_type": "code",
      "metadata": {
        "id": "V_f3MxsS_Nzl",
        "scrolled": true
      },
      "source": [
        "# import matplotlib.pyplot as plt\n",
        "# import numpy as np\n",
        "\n",
        "# for image, label in validation_generator:\n",
        "#     print(image.shape)\n",
        "#     for i in range(0,6):\n",
        "#         plt.subplot(2,3,1+i)\n",
        "#         plt.imshow(image[i][0],  cmap ='gray')\n",
        "#         # if label[i] == 0:\n",
        "#         #     strr ='Covid19'\n",
        "#         # else:\n",
        "#         #     strr ='Normal'\n",
        "            \n",
        "#         # plt.title(strr)    \n",
        "#     plt.show()\n",
        "#     break\n",
        "    "
      ],
      "execution_count": 53,
      "outputs": []
    },
    {
      "cell_type": "markdown",
      "metadata": {
        "id": "ETangWv-_Nzm"
      },
      "source": [
        "    #### Import VGG19"
      ]
    },
    {
      "cell_type": "code",
      "metadata": {
        "colab": {
          "base_uri": "https://localhost:8080/"
        },
        "id": "1HssSWhc_Nzm",
        "outputId": "d18eb626-9e71-46da-a092-2264d7e3cf45"
      },
      "source": [
        "from keras.applications import VGG19\n",
        "\n",
        "VGG19 = VGG19(weights ='imagenet',\n",
        "             include_top = False,\n",
        "             input_shape = (width, height, 3))\n",
        "\n",
        "for i, layer in enumerate(VGG19.layers):\n",
        "    print(str(i)+' '+layer.__class__.__name__, layer.trainable)"
      ],
      "execution_count": 54,
      "outputs": [
        {
          "output_type": "stream",
          "text": [
            "0 InputLayer True\n",
            "1 Conv2D True\n",
            "2 Conv2D True\n",
            "3 MaxPooling2D True\n",
            "4 Conv2D True\n",
            "5 Conv2D True\n",
            "6 MaxPooling2D True\n",
            "7 Conv2D True\n",
            "8 Conv2D True\n",
            "9 Conv2D True\n",
            "10 Conv2D True\n",
            "11 MaxPooling2D True\n",
            "12 Conv2D True\n",
            "13 Conv2D True\n",
            "14 Conv2D True\n",
            "15 Conv2D True\n",
            "16 MaxPooling2D True\n",
            "17 Conv2D True\n",
            "18 Conv2D True\n",
            "19 Conv2D True\n",
            "20 Conv2D True\n",
            "21 MaxPooling2D True\n"
          ],
          "name": "stdout"
        }
      ]
    },
    {
      "cell_type": "code",
      "metadata": {
        "colab": {
          "base_uri": "https://localhost:8080/"
        },
        "id": "joRCRYwU_Nzm",
        "outputId": "ad9d39c9-092b-4f8c-d9a3-5c1c8a5c6dc1"
      },
      "source": [
        "for layer in VGG19.layers:\n",
        "    layer.trainable = False\n",
        "    \n",
        "    \n",
        "for i,layer in enumerate(VGG19.layers):\n",
        "    print(str(i)+' '+layer.__class__.__name__, layer.trainable)"
      ],
      "execution_count": 55,
      "outputs": [
        {
          "output_type": "stream",
          "text": [
            "0 InputLayer False\n",
            "1 Conv2D False\n",
            "2 Conv2D False\n",
            "3 MaxPooling2D False\n",
            "4 Conv2D False\n",
            "5 Conv2D False\n",
            "6 MaxPooling2D False\n",
            "7 Conv2D False\n",
            "8 Conv2D False\n",
            "9 Conv2D False\n",
            "10 Conv2D False\n",
            "11 MaxPooling2D False\n",
            "12 Conv2D False\n",
            "13 Conv2D False\n",
            "14 Conv2D False\n",
            "15 Conv2D False\n",
            "16 MaxPooling2D False\n",
            "17 Conv2D False\n",
            "18 Conv2D False\n",
            "19 Conv2D False\n",
            "20 Conv2D False\n",
            "21 MaxPooling2D False\n"
          ],
          "name": "stdout"
        }
      ]
    },
    {
      "cell_type": "markdown",
      "metadata": {
        "id": "kCoZsxd8AnDW"
      },
      "source": [
        "    Fully connected the top layer of the VGG19 model"
      ]
    },
    {
      "cell_type": "code",
      "metadata": {
        "id": "GpWU-xrJM02K"
      },
      "source": [
        "import tensorflow as tf\n",
        "def addTopModel(bottom_model, num_classes, D=2048):\n",
        "    top_model = bottom_model.output\n",
        "    top_model = tf.keras.layers.Flatten(name='flatten')(top_model)\n",
        "    top_model = tf.keras.layers.Dense(D, activation='relu')(top_model)\n",
        "    top_model = tf.keras.layers.Dense(1024, activation='relu')(top_model)\n",
        "    top_model = tf.keras.layers.Dense(512, activation='relu')(top_model)\n",
        "    top_model = tf.keras.layers.Dense(256, activation='relu')(top_model)\n",
        "    top_model= tf.keras.layers.Dense(num_classes, activation='softmax')(top_model)\n",
        "    return top_model"
      ],
      "execution_count": 57,
      "outputs": []
    },
    {
      "cell_type": "markdown",
      "metadata": {
        "id": "kB8Kao-jBS9k"
      },
      "source": [
        "      Final model build\n",
        "  "
      ]
    },
    {
      "cell_type": "code",
      "metadata": {
        "colab": {
          "base_uri": "https://localhost:8080/"
        },
        "id": "R3xXwSkxBZUg",
        "outputId": "26fc2544-34ef-4299-be58-891c5c6fb047"
      },
      "source": [
        "from keras.models import Model\n",
        "\n",
        "num_classes =2\n",
        "FC_HEAD = addTopModel(VGG19, num_classes)\n",
        "model = Model(inputs =VGG19.input, outputs=FC_HEAD )\n",
        "\n",
        "model.summary()"
      ],
      "execution_count": 58,
      "outputs": [
        {
          "output_type": "stream",
          "text": [
            "Model: \"functional_7\"\n",
            "_________________________________________________________________\n",
            "Layer (type)                 Output Shape              Param #   \n",
            "=================================================================\n",
            "input_5 (InputLayer)         [(None, 400, 400, 3)]     0         \n",
            "_________________________________________________________________\n",
            "block1_conv1 (Conv2D)        (None, 400, 400, 64)      1792      \n",
            "_________________________________________________________________\n",
            "block1_conv2 (Conv2D)        (None, 400, 400, 64)      36928     \n",
            "_________________________________________________________________\n",
            "block1_pool (MaxPooling2D)   (None, 200, 200, 64)      0         \n",
            "_________________________________________________________________\n",
            "block2_conv1 (Conv2D)        (None, 200, 200, 128)     73856     \n",
            "_________________________________________________________________\n",
            "block2_conv2 (Conv2D)        (None, 200, 200, 128)     147584    \n",
            "_________________________________________________________________\n",
            "block2_pool (MaxPooling2D)   (None, 100, 100, 128)     0         \n",
            "_________________________________________________________________\n",
            "block3_conv1 (Conv2D)        (None, 100, 100, 256)     295168    \n",
            "_________________________________________________________________\n",
            "block3_conv2 (Conv2D)        (None, 100, 100, 256)     590080    \n",
            "_________________________________________________________________\n",
            "block3_conv3 (Conv2D)        (None, 100, 100, 256)     590080    \n",
            "_________________________________________________________________\n",
            "block3_conv4 (Conv2D)        (None, 100, 100, 256)     590080    \n",
            "_________________________________________________________________\n",
            "block3_pool (MaxPooling2D)   (None, 50, 50, 256)       0         \n",
            "_________________________________________________________________\n",
            "block4_conv1 (Conv2D)        (None, 50, 50, 512)       1180160   \n",
            "_________________________________________________________________\n",
            "block4_conv2 (Conv2D)        (None, 50, 50, 512)       2359808   \n",
            "_________________________________________________________________\n",
            "block4_conv3 (Conv2D)        (None, 50, 50, 512)       2359808   \n",
            "_________________________________________________________________\n",
            "block4_conv4 (Conv2D)        (None, 50, 50, 512)       2359808   \n",
            "_________________________________________________________________\n",
            "block4_pool (MaxPooling2D)   (None, 25, 25, 512)       0         \n",
            "_________________________________________________________________\n",
            "block5_conv1 (Conv2D)        (None, 25, 25, 512)       2359808   \n",
            "_________________________________________________________________\n",
            "block5_conv2 (Conv2D)        (None, 25, 25, 512)       2359808   \n",
            "_________________________________________________________________\n",
            "block5_conv3 (Conv2D)        (None, 25, 25, 512)       2359808   \n",
            "_________________________________________________________________\n",
            "block5_conv4 (Conv2D)        (None, 25, 25, 512)       2359808   \n",
            "_________________________________________________________________\n",
            "block5_pool (MaxPooling2D)   (None, 12, 12, 512)       0         \n",
            "_________________________________________________________________\n",
            "flatten (Flatten)            (None, 73728)             0         \n",
            "_________________________________________________________________\n",
            "dense_12 (Dense)             (None, 2048)              150996992 \n",
            "_________________________________________________________________\n",
            "dense_13 (Dense)             (None, 1024)              2098176   \n",
            "_________________________________________________________________\n",
            "dense_14 (Dense)             (None, 512)               524800    \n",
            "_________________________________________________________________\n",
            "dense_15 (Dense)             (None, 256)               131328    \n",
            "_________________________________________________________________\n",
            "dense_16 (Dense)             (None, 2)                 514       \n",
            "=================================================================\n",
            "Total params: 173,776,194\n",
            "Trainable params: 153,751,810\n",
            "Non-trainable params: 20,024,384\n",
            "_________________________________________________________________\n"
          ],
          "name": "stdout"
        }
      ]
    },
    {
      "cell_type": "markdown",
      "metadata": {
        "id": "co89R956Ey3A"
      },
      "source": [
        "    Callbacks Fucctions"
      ]
    },
    {
      "cell_type": "code",
      "metadata": {
        "id": "DpsXsTN2DhUd"
      },
      "source": [
        "modelcheck = tf.keras.callbacks.ModelCheckpoint('/content/drive/MyDrive/datasets/covid19/covid1.h5',\n",
        "                            monitor='val_loss',\n",
        "                            mode='min',\n",
        "                            save_best_only = True,\n",
        "                            verbose=1)\n",
        "stop = tf.keras.callbacks.EarlyStopping(monitor='val_loss',\n",
        "                    min_delta=0,\n",
        "                    patience =5,\n",
        "                    restore_best_weights= True,\n",
        "                    verbose=1 )\n",
        "\n",
        "callbacks = [modelcheck, stop]"
      ],
      "execution_count": 59,
      "outputs": []
    },
    {
      "cell_type": "markdown",
      "metadata": {
        "id": "BDj3aHQCFPxx"
      },
      "source": [
        "      Model compiling"
      ]
    },
    {
      "cell_type": "code",
      "metadata": {
        "id": "TMQB6zp0Ewji"
      },
      "source": [
        "model.compile(optimizer = 'adam',\n",
        "              loss ='categorical_crossentropy',\n",
        "              metrics = ['accuracy'])"
      ],
      "execution_count": 60,
      "outputs": []
    },
    {
      "cell_type": "markdown",
      "metadata": {
        "id": "EQn66AB4G4Ae"
      },
      "source": [
        "##             Model *Fitting*"
      ]
    },
    {
      "cell_type": "code",
      "metadata": {
        "colab": {
          "base_uri": "https://localhost:8080/"
        },
        "id": "bdZl3ZirSG1a",
        "outputId": "a07e873d-0149-4162-881a-e86a88315830"
      },
      "source": [
        "history = model.fit(training_generator,\n",
        "                    epochs =5,\n",
        "                    steps_per_epoch = 11,\n",
        "                    verbose =1,\n",
        "                    callbacks = callbacks,\n",
        "                    validation_data = validation_generator,\n",
        "                    validation_steps = 2\n",
        "                    )"
      ],
      "execution_count": 61,
      "outputs": [
        {
          "output_type": "stream",
          "text": [
            "Epoch 1/5\n",
            "11/11 [==============================] - ETA: 0s - loss: 9.5169 - accuracy: 0.4259  \n",
            "Epoch 00001: val_loss improved from inf to 3.75968, saving model to /content/drive/MyDrive/datasets/covid19/covid1.h5\n",
            "11/11 [==============================] - 250s 23s/step - loss: 9.5169 - accuracy: 0.4259 - val_loss: 3.7597 - val_accuracy: 0.5000\n",
            "Epoch 2/5\n",
            "11/11 [==============================] - ETA: 0s - loss: 1.5737 - accuracy: 0.6667 \n",
            "Epoch 00002: val_loss improved from 3.75968 to 0.44225, saving model to /content/drive/MyDrive/datasets/covid19/covid1.h5\n",
            "11/11 [==============================] - 256s 23s/step - loss: 1.5737 - accuracy: 0.6667 - val_loss: 0.4422 - val_accuracy: 0.9000\n",
            "Epoch 3/5\n",
            "11/11 [==============================] - ETA: 0s - loss: 0.2298 - accuracy: 0.9444 \n",
            "Epoch 00003: val_loss did not improve from 0.44225\n",
            "11/11 [==============================] - 239s 22s/step - loss: 0.2298 - accuracy: 0.9444 - val_loss: 1.2829 - val_accuracy: 0.9000\n",
            "Epoch 4/5\n",
            "11/11 [==============================] - ETA: 0s - loss: 0.3280 - accuracy: 0.9259 \n",
            "Epoch 00004: val_loss did not improve from 0.44225\n",
            "11/11 [==============================] - 237s 22s/step - loss: 0.3280 - accuracy: 0.9259 - val_loss: 1.1059 - val_accuracy: 0.9000\n",
            "Epoch 5/5\n",
            "11/11 [==============================] - ETA: 0s - loss: 0.6514 - accuracy: 0.8796 \n",
            "Epoch 00005: val_loss improved from 0.44225 to 0.40233, saving model to /content/drive/MyDrive/datasets/covid19/covid1.h5\n",
            "11/11 [==============================] - 254s 23s/step - loss: 0.6514 - accuracy: 0.8796 - val_loss: 0.4023 - val_accuracy: 0.9500\n"
          ],
          "name": "stdout"
        }
      ]
    },
    {
      "cell_type": "markdown",
      "metadata": {
        "id": "DtO-HmqRQlbW"
      },
      "source": [
        "      Epochs ~ accuracy graph"
      ]
    },
    {
      "cell_type": "code",
      "metadata": {
        "colab": {
          "base_uri": "https://localhost:8080/",
          "height": 300
        },
        "id": "WOAmQ7vOQFFw",
        "outputId": "453acac6-1c78-46c4-b874-9fe2a3751b7b"
      },
      "source": [
        "#Plot accuracy Chart\n",
        "history_dict = history.history\n",
        "\n",
        "acc = history_dict['accuracy']\n",
        "val_acc = history_dict['val_accuracy']\n",
        "epochs = range(1, len(acc) + 1)\n",
        "line1 = plt.plot(epochs, acc, label='train_Accuracy', color='red')\n",
        "line2 = plt.plot(epochs, val_acc, label='Val_acuuracy',color='green')\n",
        "\n",
        "plt.title('Accuracy ~ Epochs graph', fontsize=20)\n",
        "plt.xlabel('Epochs') \n",
        "plt.ylabel('Accuracy')\n",
        "plt.savefig('/content/drive/MyDrive/datasets/covid19/accuracy-epochs2.png')\n",
        "plt.legend()\n",
        "plt.show()"
      ],
      "execution_count": 64,
      "outputs": [
        {
          "output_type": "display_data",
          "data": {
            "image/png": "[encoded data removed]",
            "text/plain": [
              "<Figure size 432x288 with 1 Axes>"
            ]
          },
          "metadata": {
            "tags": [],
            "needs_background": "light"
          }
        }
      ]
    },
    {
      "cell_type": "markdown",
      "metadata": {
        "id": "AaPvivAPRSQi"
      },
      "source": [
        "        Epochs ~ accuracy graph"
      ]
    },
    {
      "cell_type": "code",
      "metadata": {
        "colab": {
          "base_uri": "https://localhost:8080/",
          "height": 300
        },
        "id": "i0DRhpFiRRU2",
        "outputId": "a503907c-7dce-48ed-c5e6-fd102133c0d9"
      },
      "source": [
        "#Plot accuracy Chart\n",
        "history_dict = history.history\n",
        "\n",
        "acc = history_dict['loss']\n",
        "val_acc = history_dict['val_loss']\n",
        "epochs = range(1, len(acc) + 1)\n",
        "line1 = plt.plot(epochs, acc, color ='red', label ='train_Loss')\n",
        "line2 = plt.plot(epochs, val_acc, color='green', label = 'val_Loss')\n",
        "\n",
        "plt.title('Loss ~ Epochs graph',fontsize=20)\n",
        "plt.xlabel('Epochs') \n",
        "plt.ylabel('Loss')\n",
        "plt.savefig('/content/drive/MyDrive/datasets/covid19/loss-epochs2.png')\n",
        "plt.legend()\n",
        "plt.show()"
      ],
      "execution_count": 65,
      "outputs": [
        {
          "output_type": "display_data",
          "data": {
            "image/png": "[encoded data removed]",
            "text/plain": [
              "<Figure size 432x288 with 1 Axes>"
            ]
          },
          "metadata": {
            "tags": [],
            "needs_background": "light"
          }
        }
      ]
    },
    {
      "cell_type": "markdown",
      "metadata": {
        "id": "MFnd7tJ8TUOM"
      },
      "source": [
        "        #      Confusion matix\n",
        "\n",
        "\n"
      ]
    },
    {
      "cell_type": "code",
      "metadata": {
        "colab": {
          "base_uri": "https://localhost:8080/"
        },
        "id": "ZGOnO_RxmwY2",
        "outputId": "8b9d77fa-6bf2-4cb5-f15b-64f288a6c1df"
      },
      "source": [
        "validation_generator.classes"
      ],
      "execution_count": 66,
      "outputs": [
        {
          "output_type": "execute_result",
          "data": {
            "text/plain": [
              "array([0, 0, 0, 0, 0, 0, 0, 0, 0, 0, 1, 1, 1, 1, 1, 1, 1, 1, 1, 1],\n",
              "      dtype=int32)"
            ]
          },
          "metadata": {
            "tags": []
          },
          "execution_count": 66
        }
      ]
    },
    {
      "cell_type": "code",
      "metadata": {
        "id": "MQF9oOpN5cD2"
      },
      "source": [
        "import tensorflow as tf\n",
        "classifier = tf.keras.models.load_model('/content/drive/MyDrive/datasets/covid19/covid1.h5')"
      ],
      "execution_count": 5,
      "outputs": []
    },
    {
      "cell_type": "code",
      "metadata": {
        "colab": {
          "base_uri": "https://localhost:8080/",
          "height": 320
        },
        "id": "6dVkdsLHoD69",
        "outputId": "243f05f0-8a91-42c8-8f28-69d5ac657e06"
      },
      "source": [
        "from sklearn.metrics import confusion_matrix\n",
        "import pandas as pd\n",
        "import seaborn as sn\n",
        "import numpy as np\n",
        "import matplotlib.pyplot as plt\n",
        "\n",
        "\n",
        "y_pred =classifier.predict(validation_generator)\n",
        "y_pred=np.argmax(y_pred, axis=1)\n",
        "\n",
        "confusion= confusion_matrix(validation_generator.classes, y_pred)\n",
        "print('Confusion matrix \\n', confusion)\n",
        "\n",
        "sn.heatmap(confusion, annot=True)\n",
        "plt.savefig('/content/drive/MyDrive/datasets/covid19/confusion_matrix2.png')\n",
        "plt.show()\n"
      ],
      "execution_count": 8,
      "outputs": [
        {
          "output_type": "stream",
          "text": [
            "Confusion matrix \n",
            " [[6 4]\n",
            " [3 7]]\n"
          ],
          "name": "stdout"
        },
        {
          "output_type": "display_data",
          "data": {
            "image/png": "[encoded data removed]",
            "text/plain": [
              "<Figure size 432x288 with 2 Axes>"
            ]
          },
          "metadata": {
            "tags": [],
            "needs_background": "light"
          }
        }
      ]
    },
    {
      "cell_type": "code",
      "metadata": {
        "id": "rGiTvBTIr1gb"
      },
      "source": [
        ""
      ],
      "execution_count": null,
      "outputs": []
    }
  ]
}